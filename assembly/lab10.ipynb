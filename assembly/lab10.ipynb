{
 "cells": [
  {
   "cell_type": "markdown",
   "metadata": {},
   "source": [
    "# Lab 10\n",
    "\n",
    "You will analyze the bacterial genome you assembled in the previous lab. You will summarizethe quality of your assembly using a few different statistics, identify the genome’s taxonomic origin, then obtain two genome annotations via different pipelines.\n",
    "\n",
    "You are expected to keep a thorough record of everything you did in your notebook. Create afolder in your home directory for each lab, and keep all your files there. Try to create a directory hierarchy that makes sense, like the one we went over in Lab 1. Copy and paste any terminal commands you used into a Markdown section and explain what theinput was, what the tool did, and what the output was. Plot any results in-line and explain them.A PDF of your iPython notebook containing your analysis is due at 10pm on Wednesday of next week, spanning both this lab session and last week’s. \n",
    "\n",
    "[Assembly statistics](https://github.com/sanger-pathogens/assembly-stats)\n",
    " - https://en.wikipedia.org/wiki/N50,_L50,_and_related_statistics\n",
    "\n",
    "rRNA Identification\n",
    " - https://en.wikipedia.org/wiki/16S_ribosomal_RNA\n",
    " - http://hmmer.org/\n",
    " - [Barrnap](https://github.com/tseemann/barrnap)\n",
    " - [SeqMatch](https://rdp.cme.msu.edu/seqmatch/seqmatch_intro.jsp)\n",
    "\n",
    "[Bedtools](https://bedtools.readthedocs.io/en/latest/index.html)\n",
    "\n",
    "Annotation services\n",
    " - https://narrative.kbase.us/#catalog/modules/ProkkaAnnotation\n",
    " - http://rast.nmpdr.org/"
   ]
  },
  {
   "cell_type": "code",
   "execution_count": 3,
   "metadata": {},
   "outputs": [],
   "source": [
    "from Bio import SeqIO\n",
    "import matplotlib.pyplot as plt"
   ]
  },
  {
   "cell_type": "code",
   "execution_count": null,
   "metadata": {},
   "outputs": [],
   "source": [
    "!conda install -c bioconda assembly-stats\n",
    "!conda install -c bioconda -c conda-forge barrnap\n",
    "!conda install -c bioconda bedtools\n",
    "!conda install -c bioconda assembly-stats\n",
    "!conda install -c bioconda hmmer"
   ]
  },
  {
   "cell_type": "markdown",
   "metadata": {},
   "source": [
    "## Generate assembly statistics\n",
    "\n",
    "The genome assembled with the reduced set of reads may not be sufficient to receive a well annotated genome. A genome assembled with the full set of reads has been uploaded to bCourses. Download the compressed file which contains the contigs and scaffolds from bCourses.\n",
    "\n",
    "Locate both assembled genomes. There should be a `contigs.fasta` and a `scaffolds.fasta` file in your SPAdes output directory as well. Contigs are contiguous sequences that could be assembled from your reads. Scaffolds are sets of contigs that have been stitched together in order, and are generally longer than contigs. Sometimes, the assembler can’t tell what sequence connects two contigs in a scaffold, and inserts N’s in the gap between them. Other times, the assembler has no additional information that could be used to determine the order and orientation of contigs in a scaffold. In this case, scaffolds == contigs.\n",
    "\n",
    "Using the `assembly-stats` program, please calculate statistics on both your contigs and scaffolds files and the contigs and scaffolds files on bCourses. There will be 4 sets of statistics total. Report the total length of all contigs/scaffolds, the number of contigs/scaffolds, and the N50 for both assembled genomes in your iPython notebook."
   ]
  },
  {
   "cell_type": "code",
   "execution_count": 3,
   "metadata": {},
   "outputs": [
    {
     "name": "stdout",
     "output_type": "stream",
     "text": [
      "stats for SPAdesoutput/contigs.fasta\n",
      "sum = 5460976, n = 911, ave = 5994.49, largest = 73853\n",
      "N50 = 17382, n = 92\n",
      "N60 = 13875, n = 127\n",
      "N70 = 11046, n = 171\n",
      "N80 = 7865, n = 228\n",
      "N90 = 4047, n = 323\n",
      "N100 = 128, n = 911\n",
      "N_count = 0\n",
      "Gaps = 0\n",
      "-------------------------------------------------------------------------------\n",
      "stats for SPAdesoutput/scaffolds.fasta\n",
      "sum = 5460996, n = 909, ave = 6007.70, largest = 73853\n",
      "N50 = 17382, n = 92\n",
      "N60 = 13875, n = 127\n",
      "N70 = 11046, n = 171\n",
      "N80 = 7865, n = 228\n",
      "N90 = 4075, n = 323\n",
      "N100 = 128, n = 909\n",
      "N_count = 20\n",
      "Gaps = 2\n"
     ]
    }
   ],
   "source": [
    "!assembly-stats SPAdesoutput/contigs.fasta SPAdesoutput/scaffolds.fasta"
   ]
  },
  {
   "cell_type": "code",
   "execution_count": null,
   "metadata": {},
   "outputs": [],
   "source": [
    "!tar -xzvf contigs_and_scaffolds.tar.gz"
   ]
  },
  {
   "cell_type": "code",
   "execution_count": 4,
   "metadata": {},
   "outputs": [
    {
     "name": "stdout",
     "output_type": "stream",
     "text": [
      "stats for contigs.fasta\n",
      "sum = 6676965, n = 170, ave = 39276.26, largest = 687575\n",
      "N50 = 213896, n = 10\n",
      "N60 = 201611, n = 13\n",
      "N70 = 154231, n = 17\n",
      "N80 = 124085, n = 22\n",
      "N90 = 83516, n = 28\n",
      "N100 = 128, n = 170\n",
      "N_count = 0\n",
      "Gaps = 0\n",
      "-------------------------------------------------------------------------------\n",
      "stats for scaffolds.fasta\n",
      "sum = 6676985, n = 168, ave = 39743.96, largest = 687575\n",
      "N50 = 213896, n = 10\n",
      "N60 = 201611, n = 13\n",
      "N70 = 154231, n = 17\n",
      "N80 = 124085, n = 22\n",
      "N90 = 92095, n = 28\n",
      "N100 = 128, n = 168\n",
      "N_count = 20\n",
      "Gaps = 2\n"
     ]
    }
   ],
   "source": [
    "!assembly-stats contigs.fasta scaffolds.fasta"
   ]
  },
  {
   "cell_type": "markdown",
   "metadata": {},
   "source": [
    "Questions:\n",
    "\n",
    "**Why is N50 a useful statistic to calculate, and what does it indicate? Why not just list the mean or median contig length?**\n",
    "\n",
    "> N50 is the length of the shortest contig, where combined with contigs of an equal or greater length, are 50% of the genome length. It is useful to calculate since it is a measure of quality/fragmentation. N50 is similar to a median in that it measures the half-mass point of the distribution, but whereas the mean/median only take into account individual measurements, N50 is much better at describing a distribution which can vary by several orders of magnitude by taking into account the total length and partial sums, which biases it towards higher statistics than a median.\n",
    "\n",
    "**In your assembly, are scaffolds longer than contigs, or are scaffolds approximately equal to contigs?**\n",
    "\n",
    "> In our assembly, the scaffolds are approximately the same length as contigs, however you would normally expect them to be longer.\n",
    "\n",
    "**What is the difference between the genomes assembled with the full set of reads and the down sampled set of reads?**\n",
    "\n",
    "> While the sum and various N statistics are more or less the same order of magnitude, the max and average lengths were much higher the in the bCourses contigs.\n",
    "\n",
    "\n",
    "The number of times a contig in your assembly was covered by the reads used to assemble it (the “coverage”) is listed at the end of the contig name in contigs.fasta. Extract the coverage from each FASTA header (using your preferred method) and plot a histogram of the coverage for all contigs for both assemblies."
   ]
  },
  {
   "cell_type": "code",
   "execution_count": 12,
   "metadata": {},
   "outputs": [
    {
     "data": {
      "text/plain": [
       "'NODE_1_length_687575_cov_8.340472'"
      ]
     },
     "execution_count": 12,
     "metadata": {},
     "output_type": "execute_result"
    }
   ],
   "source": [
    "next(SeqIO.parse(\"contigs.fasta\", \"fasta\")).name"
   ]
  },
  {
   "cell_type": "code",
   "execution_count": 15,
   "metadata": {},
   "outputs": [
    {
     "name": "stdout",
     "output_type": "stream",
     "text": [
      "170 14.3863769 1536.0\n"
     ]
    },
    {
     "data": {
      "image/png": "[encoded data removed]",
      "text/plain": [
       "<Figure size 432x288 with 1 Axes>"
      ]
     },
     "metadata": {
      "needs_background": "light"
     },
     "output_type": "display_data"
    }
   ],
   "source": [
    "import numpy as np\n",
    "\n",
    "coverage = []\n",
    "for config in SeqIO.parse(\"contigs.fasta\", \"fasta\"):\n",
    "    coverage.append(float(config.name.rsplit('_', maxsplit=1)[1]))\n",
    "print(len(coverage), np.mean(coverage), np.max(coverage))\n",
    "    \n",
    "plt.title(\"Coverage (assembled with full set of reads)\")\n",
    "plt.ylabel(\"Frequency (log number of contigs)\")\n",
    "plt.xlabel(\"Number of times covered\")\n",
    "plt.hist(coverage, bins=100, log=True)\n",
    "plt.show()"
   ]
  },
  {
   "cell_type": "code",
   "execution_count": 16,
   "metadata": {},
   "outputs": [
    {
     "name": "stdout",
     "output_type": "stream",
     "text": [
      "911 0.860009048298573 117.0\n"
     ]
    },
    {
     "data": {
      "image/png": "[encoded data removed]",
      "text/plain": [
       "<Figure size 432x288 with 1 Axes>"
      ]
     },
     "metadata": {
      "needs_background": "light"
     },
     "output_type": "display_data"
    }
   ],
   "source": [
    "coverage = []\n",
    "for config in SeqIO.parse(\"SPAdesoutput/contigs.fasta\", \"fasta\"):\n",
    "    coverage.append(float(config.name.rsplit('_', maxsplit=1)[1]))\n",
    "print(len(coverage), np.mean(coverage), np.max(coverage))\n",
    "\n",
    "plt.title(\"Coverage (assembled with downsampled set of reads)\")\n",
    "plt.ylabel(\"Frequency (log number of contigs)\")\n",
    "plt.xlabel(\"Number of times covered\")\n",
    "plt.hist(coverage, bins=100, log=True)\n",
    "plt.show()"
   ]
  },
  {
   "cell_type": "markdown",
   "metadata": {},
   "source": [
    "Questions:\n",
    "**Is coverage uniformly distributed? Does it look Gaussian? Is it bimodal or trimodal?**\n",
    "\n",
    "> The coverage is clearly not uniformly distributed or Gaussian due to its strong right skew, and due to the strong dropoff (and peaks). The coverage appears to follow a bimodal distribution, visible at a 100 or below vs above (however the max varies).\n",
    "\n",
    "**What explains the presence of contigs with coverage an integer multiple of the mean coverage?**\n",
    "\n",
    "> The mean of the coverage distribution is close to 14, though there are some contigs with coverages of 1536 and 150, which appear to be multiples of the average. This could be explained by the fact that the contigs that are covered more times by the reads from the sequencing have much smaller lengths.\n",
    "\n",
    "**Is there a difference in the histograms between assemblies? If so, what is the difference?**\n",
    "\n",
    "> While the shape is more or less the same, the actual number of contigs in the assembly I ran is much more than that in the full version! So, while they both share an outlier of length ~100, the full assembly resulted in an extreme outlier at around 1500.\n",
    "\n",
    "\n",
    "## Identify the taxonfrom which your genome originated\n",
    "\n",
    "We know that the genome originated from a taxonof bacteria. One component of bacterial ribosomes is the 16S ribosomal RNA subunit.This functional RNA is conserved throughout all bacteria, and is often used as a taxonomic marker gene.Much of the gene is highly conserved, as function ribosomes are required for protein synthesis, but some regions differ greater between bacterial taxa. These “hypervariable regions” can be used to determine the taxonfrom which a 16S rRNA gene originated.\n",
    "\n",
    "Note from this point, you are focusing on your assembled genome. To identify your genome, you must 1) scan over the entire genome to locate copies of the 16S ribosomal RNA gene, 2) extract the 16S rRNA genes from your assembly, and 3) compare these genes to a database of known 16S rRNA genes.\n",
    "\n",
    "First, run the barrnap program on your assembled contigs to locate rRNA genes.\n",
    "``barrnap contigs.fasta > rrna.gff``\n",
    "The first argument is the path to the assembled contigs. The greater-than symbol redirects the output to the General Feature Format (GFF) file rrna.gff. This program uses a Hidden Markov Model (HMM) that describes the structure of ribosomal RNAgenes to find their coordinates inside a genome. After this program completes, delete all lines within rrna.gff than those containing 16S_rRNA genes."
   ]
  },
  {
   "cell_type": "code",
   "execution_count": 6,
   "metadata": {},
   "outputs": [
    {
     "name": "stdout",
     "output_type": "stream",
     "text": [
      "[barrnap] This is barrnap 0.9\n",
      "[barrnap] Written by Torsten Seemann\n",
      "[barrnap] Obtained from https://github.com/tseemann/barrnap\n",
      "[barrnap] Detected operating system: linux\n",
      "[barrnap] Adding /opt/conda/lib/barrnap/bin/../binaries/linux to end of PATH\n",
      "[barrnap] Checking for dependencies:\n",
      "[barrnap] Found nhmmer - /opt/conda/bin/nhmmer\n",
      "[barrnap] Found bedtools - /opt/conda/bin/bedtools\n",
      "[barrnap] Will use 1 threads\n",
      "[barrnap] Setting evalue cutoff to 1e-06\n",
      "[barrnap] Will tag genes < 0.8 of expected length.\n",
      "[barrnap] Will reject genes < 0.25 of expected length.\n",
      "[barrnap] Using database: /opt/conda/lib/barrnap/bin/../db/bac.hmm\n",
      "[barrnap] Scanning contigs.fasta for bac rRNA genes... please wait\n",
      "[barrnap] Command: nhmmer --cpu 1 -E 1e-06 --w_length 3878 -o /dev/null --tblout /dev/stdout '/opt/conda/lib/barrnap/bin/../db/bac.hmm' 'contigs.fasta'\n",
      "[barrnap] Found: 16S_rRNA NODE_17_length_154231_cov_9.579771 L=1532/1585 124549..126080 + 16S ribosomal RNA\n",
      "[barrnap] Found: 16S_rRNA NODE_1_length_687575_cov_8.340472 L=1532/1585 46293..47824 + 16S ribosomal RNA\n",
      "[barrnap] Found: 16S_rRNA NODE_23_length_103367_cov_10.080628 L=1532/1585 35538..37069 + 16S ribosomal RNA\n",
      "[barrnap] Found: 16S_rRNA NODE_3_length_378948_cov_10.008563 L=1532/1585 348507..350038 + 16S ribosomal RNA\n",
      "[barrnap] Found: 16S_rRNA NODE_5_length_332503_cov_9.112282 L=1532/1585 137018..138549 - 16S ribosomal RNA\n",
      "[barrnap] Found: 16S_rRNA NODE_6_length_298797_cov_8.927468 L=1532/1585 13936..15467 + 16S ribosomal RNA\n",
      "[barrnap] Found: 23S_rRNA NODE_17_length_154231_cov_9.579771 L=2889/3232 126598..129486 + 23S ribosomal RNA\n",
      "[barrnap] Found: 23S_rRNA NODE_1_length_687575_cov_8.340472 L=2889/3232 48342..51230 + 23S ribosomal RNA\n",
      "[barrnap] Found: 23S_rRNA NODE_23_length_103367_cov_10.080628 L=2889/3232 37587..40475 + 23S ribosomal RNA\n",
      "[barrnap] Found: 23S_rRNA NODE_3_length_378948_cov_10.008563 L=2889/3232 350556..353444 + 23S ribosomal RNA\n",
      "[barrnap] Found: 23S_rRNA NODE_5_length_332503_cov_9.112282 L=2889/3232 133612..136500 - 23S ribosomal RNA\n",
      "[barrnap] Found: 23S_rRNA NODE_6_length_298797_cov_8.927468 L=2889/3232 15985..18873 + 23S ribosomal RNA\n",
      "[barrnap] Rejecting short 115 nt predicted 23S_rRNA. Adjust via --reject option.\n",
      "[barrnap] Rejecting short 70 nt predicted 23S_rRNA. Adjust via --reject option.\n",
      "[barrnap] Found: 5S_rRNA NODE_17_length_154231_cov_9.579771 L=110/119 129664..129773 + 5S ribosomal RNA\n",
      "[barrnap] Found: 5S_rRNA NODE_1_length_687575_cov_8.340472 L=110/119 51408..51517 + 5S ribosomal RNA\n",
      "[barrnap] Found: 5S_rRNA NODE_23_length_103367_cov_10.080628 L=110/119 40653..40762 + 5S ribosomal RNA\n",
      "[barrnap] Found: 5S_rRNA NODE_3_length_378948_cov_10.008563 L=110/119 353607..353716 + 5S ribosomal RNA\n",
      "[barrnap] Found: 5S_rRNA NODE_5_length_332503_cov_9.112282 L=110/119 133325..133434 - 5S ribosomal RNA\n",
      "[barrnap] Found: 5S_rRNA NODE_6_length_298797_cov_8.927468 L=110/119 19051..19160 + 5S ribosomal RNA\n",
      "[barrnap] Found 18 ribosomal RNA features.\n",
      "[barrnap] Sorting features and outputting GFF3...\n",
      "[barrnap] Done.\n"
     ]
    }
   ],
   "source": [
    "!barrnap contigs.fasta > rrna.gff"
   ]
  },
  {
   "cell_type": "markdown",
   "metadata": {},
   "source": [
    "Next, use `bedtools getfasta` to extract nucleic acid sequences of the 16S rRNA genes from your assembly. You will need to specify the path to contigs.fasta with `-fi` and the path to the GFF file you obtained above, with `-bed`. The output will be in FASTA format. Redirect the output to anew fasta file with a name of you choosing."
   ]
  },
  {
   "cell_type": "code",
   "execution_count": 8,
   "metadata": {},
   "outputs": [],
   "source": [
    "!bedtools getfasta -fi contigs.fasta -bed 16S_rrna.gff > 16S_rrna.fasta"
   ]
  },
  {
   "attachments": {
    "image.png": {
     "image/png": "[encoded data removed]"
    }
   },
   "cell_type": "markdown",
   "metadata": {},
   "source": [
    "Finally, open your web browser and head over to **Ribosomal Database Project’s SeqMatch** tool. Copy and paste your 16S sequences one at a time into the window, or upload the resulting FASTA file from the previous step. This program will attempt to identify the 16S sequences as precisely as possible by comparing them to a database of high-quality, curated sequences, obtained from known bacteria.\n",
    "\n",
    "You may not be able to obtain a “species”-level identification, but please write down your genus-level identification in your iPython notebook along with an explanation for how you came to this conclusion.\n",
    "\n",
    "> As it turns out, all 6 of the 16S sequences have their highest matches in the genus Pseudomonas, which is definitive. The breakdown of the phylogeny is as follows:\n",
    ">  - domain Bacteria  (6) \n",
    ">    - phylum Proteobacteria  (6) \n",
    ">      - class Gammaproteobacteria  (6) \n",
    ">        - order Pseudomonadales  (6) \n",
    ">          - family Pseudomonadaceae  (6) \n",
    ">            - genus Pseudomonas  (6) \n",
    "\n",
    "\n",
    "## Genome annotation\n",
    "\n",
    "Knowledge of a genome’s taxonomic provenance can be used to infer quite a bit about its lifestyle. For example, if this genome belongs to the Mycoplasmagenus, we could take a guess that it lacks a cell wall and has a parasitic relationship to an animal host. Given that we know the sequence of the genome, however, we needn’t stop at an analysis based on taxonomic labels. We can look inside the genome and determine with high confidence whether it contains genes necessary to produce a cell wall, or virulence factors enabling the infection of an animal host. To do this, we need a program that can break the long genome sequence into genes, then identify their function by identifying orthologs with known function in other, more well-studied genomes. This is called genome annotation.\n",
    "\n",
    "In this lab, you will upload the genome assembled with the full set of reads to two remote annotation services that will perform the annotation automatically: **RAST** and **KBase Prokka**\n",
    "Annotation. There are many more annotation services, but for the sake of time, focus on only two. You must create an account to upload your genome to RAST and KBase.  This process may take some time.\n",
    "\n",
    "## Research and write-up\n",
    "\n",
    "Now that you have identified your genome and sent off your genome for annotation, take some time to research what is known about its genus and/or species. Search PubMed for recent publications and read through some abstracts. Once your RAST job has finished, you will be presented with a graphical interpretation of the pathways encoded by your genome, and information about its phylogenetic relatives.\n",
    "\n",
    "Please summarize some of the information obtained in your annotation in a markdown section at the bottom of your notebook, placing it in the context of any papers you have found and read about related taxa. Use no more than 500 words and no more than two references. Include a word count at the top of the section. Try to make it exciting to both you and the reader. Focus on an interesting topic supported by evidence found during your analysis! Here are some ideas for topics, but feel free to choose your own:\n",
    "\n",
    "1. What environment do relatives of your bacterium live in? Is there evidence of adaptation to this environment in the genome?\n",
    "\n",
    "2. Based on its genome, is your bacterium auxotrophic for any amino acids? Are its closest relatives also auxotrophic for these?\n",
    "\n",
    "3. Horizontal gene transfer is common among bacteria. Is there any evidence for HGT in your genome?\n",
    "\n",
    "4. CRISPR-Cas9 is so hot right now. Does your genome have a CRISPR system? Can you determine where the spacer sequences originated from?\n",
    "\n",
    "5. Does your genome encode any known bacteriocins, antibiotics, or toxins?\n",
    "\n",
    "6. Make an argument for why or why not your bacterium would be considered a human pathogen, using the genome and your research as evidence.\n",
    "\n",
    "7. Does your genome encode any known antibiotic resistance genes? Do you expect it to be susceptible to penicillin, tetracycline, or chloramphenicol?\n",
    "\n",
    "\n",
    "The environment relatives of Pseudomonas generally inhabit soil, marshes, costal marine habitats, and also human and animal tissues. Pseudomonas can survive in a variety of ecological conditions, and thus have many phenotypes depending on its environmental condition.\n",
    "\n",
    "These were metadata of both outputs on PROKKA and RAST on KBase. As you can see, they were not able to make a species match:\n",
    "\n",
    "| Field | Value |\n",
    "| - | - |\n",
    "|Permanent Id|\t77251/4/1|\n",
    "|Full Type|\tKBaseGenomes.Genome‑11.0|\n",
    "|Saved by|\tAlex Bondarenko (abondrn)|\n",
    "|Taxonomy|\tUnconfirmed Organism|\n",
    "|Size|\t6635920|\n",
    "|Source|\tPROKKA annotation pipeline|\n",
    "|Name|\tUnknown|\n",
    "|GC content|\t0.58799|\n",
    "|Genetic code|\t11|\n",
    "|Number of Genome Level Warnings|\t2|\n",
    "|Number of Protein Encoding Genes|\t6077|\n",
    "|Assembly Object|\t77251/2/1|\n",
    "|Number contigs|\t65|\n",
    "|Domain|\tBacteria|\n",
    "|Number of CDS|\t6077|\n",
    "|Genome Type|\tdraft isolate|\n",
    "|MD5|\tf71d54fad3aec00973b26a0c51bee0d0|\n",
    "\n",
    "| Field | Value |\n",
    "| - | - |\n",
    "|Permanent Id|\t77251/6/1|\n",
    "|Full Type|\tKBaseGenomes.Genome‑11.0|\n",
    "|Saved by|\tAlex Bondarenko (abondrn)|\n",
    "|Taxonomy|\tUnconfirmed Organism|\n",
    "|Size|\t6635920|\n",
    "|Source|\tKBase|\n",
    "|Name|\tUnknown species|\n",
    "|GC content|\t0.58799|\n",
    "|Genetic code|\t11|\n",
    "|Number of Genome Level Warnings|\t2|\n",
    "|Source ID|\trast|\n",
    "|Number of Protein Encoding Genes|\t6300|\n",
    "|Assembly Object|\t77251/2/1|\n",
    "|Number contigs|\t65|\n",
    "|Domain|\tB|\n",
    "|Number of CDS|\t6300|\n",
    "|Genome Type|\tdraft isolate|\n",
    "|MD5|\tf71d54fad3aec00973b26a0c51bee0d0|\n",
    "\n",
    "When running RAST\n",
    "\n",
    "![image.png](attachment:image.png) Cofactors, Vitamins, Prosthetic Groups, Pigments (354)\n",
    "   Cell Wall and Capsule (230)\n",
    "   Virulence, Disease and Defense (120)\n",
    "   Potassium metabolism (30)\n",
    "   Photosynthesis (0)\n",
    "   Miscellaneous (72)\n",
    "   Phages, Prophages, Transposable elements, Plasmids (8)\n",
    "   Membrane Transport (258)\n",
    "   Iron acquisition and metabolism (87)\n",
    "   RNA Metabolism (213)\n",
    "   Nucleosides and Nucleotides (133)\n",
    "   Protein Metabolism (291)\n",
    "   Cell Division and Cell Cycle (37)\n",
    "   Motility and Chemotaxis (130)\n",
    "   Regulation and Cell signaling (127)\n",
    "   Secondary Metabolism (11)\n",
    "   DNA Metabolism (127)\n",
    "   Fatty Acids, Lipids, and Isoprenoids (212)\n",
    "   Nitrogen Metabolism (109)\n",
    "   Dormancy and Sporulation (4)\n",
    "   Respiration (147)\n",
    "   Stress Response (205)\n",
    "   Metabolism of Aromatic Compounds (111)\n",
    "   Amino Acids and Derivatives (723)\n",
    "   Sulfur Metabolism (84)\n",
    "   Phosphorus Metabolism (76)\n",
    "   Carbohydrates (487)"
   ]
  },
  {
   "cell_type": "code",
   "execution_count": null,
   "metadata": {},
   "outputs": [],
   "source": []
  }
 ],
 "metadata": {
  "kernelspec": {
   "display_name": "Python 3",
   "language": "python",
   "name": "python3"
  },
  "language_info": {
   "codemirror_mode": {
    "name": "ipython",
    "version": 3
   },
   "file_extension": ".py",
   "mimetype": "text/x-python",
   "name": "python",
   "nbconvert_exporter": "python",
   "pygments_lexer": "ipython3",
   "version": "3.8.6"
  }
 },
 "nbformat": 4,
 "nbformat_minor": 4
}
